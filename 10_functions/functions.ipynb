{
 "cells": [
  {
   "cell_type": "markdown",
   "metadata": {},
   "source": [
    "> ### Vérification de la configuration\n",
    "> Vérifiez que Python et les tests fonctionnent correctement en exécutant les deux cellules ci-dessous."
   ]
  },
  {
   "cell_type": "code",
   "execution_count": null,
   "metadata": {},
   "outputs": [],
   "source": [
    "print(\"✅ Python works!\")\n",
    "from sys import version\n",
    "print(version)"
   ]
  },
  {
   "cell_type": "code",
   "execution_count": null,
   "metadata": {},
   "outputs": [],
   "source": [
    "import ipytest\n",
    "ipytest.autoconfig()\n",
    "ipytest.clean()\n",
    "def test_all_good():\n",
    "    assert \"🐍\" == \"🐍\"\n",
    "ipytest.run()"
   ]
  },
  {
   "cell_type": "markdown",
   "metadata": {},
   "source": [
    "# Les fonctions en Python\n",
    "\n",
    "La définition d'une fonction en Python commence par le mot-clé `def`, suivi du nom de la fonction, de parenthèses `()` et de deux points `:`. Le corps de la fonction est ensuite indenté.\n",
    "\n",
    "```python\n",
    "def my_function():\n",
    "    print(\"Hello from a function\")\n",
    "```\n",
    "\n",
    "Pour appeler une fonction, il suffit d'écrire son nom suivi de parenthèses `()`. Si la fonction prend des arguments, ils doivent être passés entre les parenthèses et séparés par des virgules.\n",
    "\n",
    "```python\n",
    "my_function()\n",
    "my_function2(arg1, arg2)\n",
    "```\n",
    "\n",
    "Les fonctions peuvent prendre des arguments.\n",
    "\n",
    "```python\n",
    "def my_function_with_args(username, greeting):\n",
    "    print(f\"Hello {username}, I wish you {greeting}\")\n",
    "\n",
    "my_function_with_args(\"Kamala\", \"to beat Donald!\")\n",
    "# Output: Hello Kamala, I wish you to beat Donald!\n",
    "```\n",
    "\n",
    "Les fonctions peuvent également retourner des valeurs. Le mot-clé `return` est utilisé pour retourner une valeur.\n",
    "\n",
    "```python\n",
    "def sum_two_numbers(a, b):\n",
    "    return a + b\n",
    "```\n",
    "\n",
    "```python\n",
    "x = sum_two_numbers(3, 5)\n",
    "print(x)\n",
    "```\n",
    "\n",
    "> **Note :** Les fonctions peuvent être définies n'importe où dans le code, et elles peuvent être appelées avant ou après leur définition.\n",
    "\n",
    "> **Note :** Le retour d'une fonction est facultatif. Si aucune valeur n'est retournée, la fonction retourne `None`.\n",
    "\n",
    "## Exercices\n",
    "\n",
    "1. Écrivez une fonction `multiply` qui prend deux arguments et retourne leur produit.\n",
    "2. Écrivez une fonction `greet` qui prend un argument `name` et retourne une chaîne de caractères de la forme `\"Hello, <name>!\"`.\n"
   ]
  },
  {
   "cell_type": "code",
   "execution_count": 26,
   "metadata": {},
   "outputs": [],
   "source": [
    "# 1. Écrivez une fonction `multiply` qui prend deux arguments et retourne leur produit.\n"
   ]
  },
  {
   "cell_type": "code",
   "execution_count": null,
   "metadata": {},
   "outputs": [],
   "source": [
    "# 1. 🧪\n",
    "ipytest.clean()\n",
    "def test_multiply():\n",
    "    assert multiply(2, 3) == 6\n",
    "    assert multiply(5, 5) == 25\n",
    "    assert multiply(0, 10) == 0\n",
    "    assert multiply(-2, 3) == -6\n",
    "    assert multiply(-2, -3) == 6\n",
    "ipytest.run()"
   ]
  },
  {
   "cell_type": "code",
   "execution_count": null,
   "metadata": {},
   "outputs": [],
   "source": [
    "# 2. Écrivez une fonction `greet` qui prend un argument `name` et retourne une chaîne de caractères de la forme `\"Hello, <name>!\"`.\n"
   ]
  },
  {
   "cell_type": "code",
   "execution_count": null,
   "metadata": {},
   "outputs": [],
   "source": [
    "#2. 🧪\n",
    "ipytest.clean()\n",
    "def test_greet():\n",
    "    assert greet(\"Alice\") == \"Hello, Alice!\"\n",
    "    assert greet(\"Bob\") == \"Hello, Bob!\"\n",
    "ipytest.run()"
   ]
  }
 ],
 "metadata": {
  "kernelspec": {
   "display_name": "Python 3",
   "language": "python",
   "name": "python3"
  },
  "language_info": {
   "codemirror_mode": {
    "name": "ipython",
    "version": 3
   },
   "file_extension": ".py",
   "mimetype": "text/x-python",
   "name": "python",
   "nbconvert_exporter": "python",
   "pygments_lexer": "ipython3",
   "version": "3.11.5"
  }
 },
 "nbformat": 4,
 "nbformat_minor": 2
}
