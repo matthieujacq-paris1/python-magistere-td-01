{
 "cells": [
  {
   "cell_type": "markdown",
   "metadata": {},
   "source": [
    "> ### Vérification de la configuration\n",
    "> Vérifiez que Python et les tests fonctionnent correctement en exécutant les deux cellules ci-dessous."
   ]
  },
  {
   "cell_type": "code",
   "execution_count": null,
   "metadata": {},
   "outputs": [],
   "source": [
    "print(\"✅ Python works!\")\n",
    "from sys import version\n",
    "print(version)"
   ]
  },
  {
   "cell_type": "code",
   "execution_count": null,
   "metadata": {},
   "outputs": [],
   "source": [
    "import ipytest\n",
    "ipytest.autoconfig()\n",
    "ipytest.clean()\n",
    "def test_all_good():\n",
    "    assert \"🐍\" == \"🐍\"\n",
    "ipytest.run()"
   ]
  },
  {
   "cell_type": "markdown",
   "metadata": {},
   "source": [
    "# Les conditions en Python\n",
    "\n",
    "## Les conditions\n",
    "\n",
    "Les conditions permettent de tester si une condition est vraie ou fausse. En fonction du résultat, on peut exécuter un bloc de code ou un autre.\n",
    "\n",
    "### Syntaxe\n",
    "\n",
    "```python\n",
    "if condition:\n",
    "    # code à exécuter si la condition est vraie\n",
    "else:\n",
    "    # code à exécuter si la condition est fausse\n",
    "```\n",
    "\n",
    "Il est possible d'ajouter plusieurs conditions en utilisant `elif` (contraction de `else if`).\n",
    "\n",
    "```python\n",
    "if condition1:\n",
    "    # code à exécuter si la condition1 est vraie\n",
    "elif condition2:\n",
    "    # code à exécuter si la condition2 est vraie\n",
    "else:\n",
    "    # code à exécuter si aucune des conditions précédentes n'est vraie\n",
    "```\n",
    "\n",
    "La condition finale `else` est optionnelle.\n",
    "\n",
    "#### Exemple\n",
    "\n",
    "```python\n",
    "age = 18\n",
    "\n",
    "if age >= 18:\n",
    "    print(\"Vous êtes majeur\")\n",
    "else:\n",
    "    print(\"Vous êtes mineur\")\n",
    "```\n",
    "\n",
    "### Opérateurs de comparaison et logiques\n",
    "\n",
    "- `==` : égal à\n",
    "- `!=` : différent de\n",
    "- `>` : supérieur à\n",
    "- `<` : inférieur à\n",
    "- `>=` : supérieur ou égal à\n",
    "- `<=` : inférieur ou égal à\n",
    "\n",
    "Ces opérateurs permettent de comparer des valeurs entre elles, et de tester si une condition est vraie ou fausse. La valeur de retour est un booléen (`True` ou `False`).\n",
    "\n",
    "> **Note :** Attention à ne pas confondre l'opérateur d'égalité `==` avec l'opérateur d'affectation `=`.\n",
    "\n",
    "> **Note :** La majuscule est importante, `True` et `False` sont des valeurs spéciales en Python.\n",
    "\n",
    "Trois opérateurs logiques très importants permettent de combiner plusieurs conditions et de travailler avec des expressions booléennes :\n",
    "- `and` : ET\n",
    "- `or` : OU\n",
    "- `not` : NON\n",
    "\n",
    "#### Exemple\n",
    "\n",
    "```python\n",
    "age = 18\n",
    "\n",
    "if age >= 18 and age < 21:\n",
    "    print(\"Vous êtes majeur mais vous n'êtes pas encore autorisé à boire de l'alcool aux États-Unis\")\n",
    "```\n",
    "\n",
    "> **Note :** Il est possible de grouper des conditions en utilisant des parenthèses.\n",
    "> Par exemple, `if (payment >= 10 or subscription == True) and age >= 18:`.\n",
    "\n",
    "### L'instruction `pass`\n",
    "\n",
    "L'instruction `pass` ne fait rien. Elle est souvent utilisée pour écrire du code provisoire ou pour éviter une erreur de syntaxe.\n",
    "\n",
    "#### Exemple\n",
    "\n",
    "```python\n",
    "age = 18\n",
    "\n",
    "if age >= 18:\n",
    "    pass\n",
    "else:\n",
    "    print(\"Vous êtes mineur\")\n",
    "```\n",
    "\n",
    "## Exercices\n",
    "\n",
    "1. Écrivez une fonction `print_sign` qui affiche \"Positif\" si le nombre en paramètre est positif, \"Négatif\" s'il est négatif, et \"Nul\" s'il est nul.\n",
    "2. Écrivez une fonction `is_adult` qui prend un âge en paramètre et retourne `True` si la personne est majeure, et `False` sinon.\n",
    "3. Écrivez une fonction `is_even` qui prend un nombre en paramètre et retourne `True` si le nombre est pair, et `False` sinon. (Indice : utilisez l'opérateur modulo `%`).\n",
    "4. Écrivez une fonction `where_can_i_drink_beer` qui prend un âge en paramètre et retourne `\"France\"`, `\"États-Unis\"`, `\"Les deux\"`, ou `\"Aucun\"` en fonction de l'âge de la personne. En France, on peut boire de l'alcool à partir de 18 ans, et aux États-Unis à partir de 21 ans.\n",
    "5. Écrivez une fonction `do_nothing` qui ne fait rien.\n",
    "6. Écrivez une fonction `is_between` qui prend trois paramètres `a`, `b`, et `c`, et retourne `True` si `b` est compris entre `a` et `c`, et `False` sinon. (Indice : a ne doit pas nécessairement être inférieur à c).\n",
    "7. Écrivez une fonction `is_triangle` qui prend trois paramètres `a`, `b`, et `c`, et retourne `True` si les trois côtés forment un triangle, et `False` sinon. (Indice : la somme de deux côtés doit être strictement supérieure au troisième).\n",
    "8. Écrivez une fonction `is_leap_year` qui prend une année en paramètre et retourne `True` si l'année est bissextile, et `False` sinon. (Indice : une année est bissextile si elle est divisible par 4, mais pas par 100, sauf si elle est divisible par 400 -> utiliser l'opérateur modulo `%`).\n",
    "9. Écrivez une fonction `get_arkose_price` qui prend en paramètre l'âge de la personne (nombre) et l'heure d'entrée dans la salle d'escalade (nombre), et retourne le prix à payer (nombre).\n",
    "    - Le prix standard est de 18€ en heures pleines et de 11€ en happy hour (< 16h ou >= 21.5h).\n",
    "    - Le prix pour les moins de 12 ans (< 12) est de 10€ quelque soit l'heure.\n",
    "    - La salle est ferme à minuit et ouvre à 7h.\n",
    "    - Si l'âge est inférieur à 4 (< 4) ou si la salle est fermée, la fonction affiche \"Erreur\" et ne retourne rien (None)."
   ]
  },
  {
   "cell_type": "code",
   "execution_count": 14,
   "metadata": {},
   "outputs": [],
   "source": [
    "# 1. Écrivez une fonction `print_sign` qui affiche \"Positif\" si le nombre en paramètre est positif, \"Négatif\" s'il est négatif, et \"Nul\" s'il est nul.\n"
   ]
  },
  {
   "cell_type": "code",
   "execution_count": null,
   "metadata": {},
   "outputs": [],
   "source": [
    "# 🧪\n",
    "ipytest.clean()\n",
    "def test_print_sign():\n",
    "    # catch stdout\n",
    "    import sys\n",
    "    from io import StringIO\n",
    "    stdout = sys.stdout\n",
    "    sys.stdout = StringIO()\n",
    "    # test\n",
    "    print_sign(42)\n",
    "    print_sign(-42)\n",
    "    print_sign(0)\n",
    "    output = sys.stdout.getvalue().split('\\n')\n",
    "    assert output[0] == \"Positif\"\n",
    "    assert output[1] == \"Négatif\"\n",
    "    assert output[2] == \"Nul\"\n",
    "    sys.stdout = stdout\n",
    "ipytest.run()"
   ]
  },
  {
   "cell_type": "code",
   "execution_count": null,
   "metadata": {},
   "outputs": [],
   "source": [
    "# 2. Écrivez une fonction `is_adult` qui prend un âge en paramètre et renvoie `True` si la personne est majeure, et `False` sinon.\n"
   ]
  },
  {
   "cell_type": "code",
   "execution_count": null,
   "metadata": {},
   "outputs": [],
   "source": [
    "# 🧪\n",
    "ipytest.clean()\n",
    "def test_is_adult():\n",
    "    assert is_adult(17) == False\n",
    "    assert is_adult(18) == True\n",
    "    assert is_adult(19) == True\n",
    "ipytest.run()"
   ]
  },
  {
   "cell_type": "code",
   "execution_count": 6,
   "metadata": {},
   "outputs": [],
   "source": [
    "# 3. Écrivez une fonction `is_even` qui prend un nombre en paramètre et renvoie `True` si le nombre est pair, et `False` sinon.\n"
   ]
  },
  {
   "cell_type": "code",
   "execution_count": null,
   "metadata": {},
   "outputs": [],
   "source": [
    "# 🧪\n",
    "ipytest.clean()\n",
    "def test_is_even():\n",
    "    assert is_even(0) == True\n",
    "    assert is_even(1) == False\n",
    "    assert is_even(2) == True\n",
    "    assert is_even(3) == False\n",
    "ipytest.run()"
   ]
  },
  {
   "cell_type": "code",
   "execution_count": 20,
   "metadata": {},
   "outputs": [],
   "source": [
    "# 4. Écrivez une fonction `where_can_i_drink_beer` qui prend un âge en paramètre et retourne `\"France\"`, `\"États-Unis\"`, `\"Les deux\"`, ou `\"Aucun\"` en fonction de l'âge de la personne. En France, on peut boire de l'alcool à partir de 18 ans, et aux États-Unis à partir de 21 ans.\n",
    "\n"
   ]
  },
  {
   "cell_type": "code",
   "execution_count": null,
   "metadata": {},
   "outputs": [],
   "source": [
    "# 🧪\n",
    "ipytest.clean()\n",
    "def test_where_can_i_drink_beer():\n",
    "    assert where_can_i_drink_beer(17) == \"Aucun\"\n",
    "    assert where_can_i_drink_beer(18) == \"France\"\n",
    "    assert where_can_i_drink_beer(19) == \"France\"\n",
    "    assert where_can_i_drink_beer(20) == \"France\"\n",
    "    assert where_can_i_drink_beer(21) == \"Les deux\"\n",
    "    assert where_can_i_drink_beer(22) == \"Les deux\"\n",
    "ipytest.run()"
   ]
  },
  {
   "cell_type": "code",
   "execution_count": 5,
   "metadata": {},
   "outputs": [],
   "source": [
    "# 5. Écrivez une fonction `do_nothing` qui ne fait rien.\n"
   ]
  },
  {
   "cell_type": "code",
   "execution_count": 6,
   "metadata": {},
   "outputs": [
    {
     "name": "stdout",
     "output_type": "stream",
     "text": [
      "\u001b[32m.\u001b[0m\u001b[32m                                                                                            [100%]\u001b[0m\n",
      "\u001b[32m\u001b[32m\u001b[1m1 passed\u001b[0m\u001b[32m in 0.00s\u001b[0m\u001b[0m\n"
     ]
    },
    {
     "data": {
      "text/plain": [
       "<ExitCode.OK: 0>"
      ]
     },
     "execution_count": 6,
     "metadata": {},
     "output_type": "execute_result"
    }
   ],
   "source": [
    "# 🧪\n",
    "ipytest.clean()\n",
    "def test_do_nothing(capsys):\n",
    "    assert do_nothing() == None\n",
    "    output = capsys.readouterr().out\n",
    "    assert output == \"\"\n",
    "ipytest.run()\n"
   ]
  },
  {
   "cell_type": "code",
   "execution_count": 22,
   "metadata": {},
   "outputs": [],
   "source": [
    "# 6. Écrivez une fonction `is_between` qui prend trois paramètres `a`, `b`, et `c`, et retourne `True` si `b` est compris entre `a` et `c`, et `False` sinon.\n"
   ]
  },
  {
   "cell_type": "code",
   "execution_count": null,
   "metadata": {},
   "outputs": [],
   "source": [
    "# 🧪\n",
    "ipytest.clean()\n",
    "def test_is_between():\n",
    "    assert is_between(1, 2, 3) == True\n",
    "    assert is_between(3, 2, 1) == True\n",
    "    assert is_between(1, 3, 2) == False\n",
    "    assert is_between(3, 1, 2) == False\n",
    "ipytest.run()"
   ]
  },
  {
   "cell_type": "code",
   "execution_count": 25,
   "metadata": {},
   "outputs": [],
   "source": [
    "# 7. Écrivez une fonction `is_triangle` qui prend trois paramètres `a`, `b`, et `c`, et retourne `True` si les trois côtés forment un triangle, et `False` sinon. (Indice : la somme de deux côtés doit être strictement supérieure au troisième).\n"
   ]
  },
  {
   "cell_type": "code",
   "execution_count": null,
   "metadata": {},
   "outputs": [],
   "source": [
    "# 🧪\n",
    "ipytest.clean()\n",
    "def test_is_triangle():\n",
    "    assert is_triangle(1, 1, 1) == True\n",
    "    assert is_triangle(1, 2, 3) == False\n",
    "    assert is_triangle(3, 4, 5) == True\n",
    "    assert is_triangle(4, 5, 3) == True\n",
    "    assert is_triangle(5, 3, 4) == True\n",
    "    assert is_triangle(5, 12, 13) == True\n",
    "    assert is_triangle(5, 12, 30) == False\n",
    "    assert is_triangle(5, 30, 12) == False\n",
    "    assert is_triangle(30, 5, 12) == False\n",
    "ipytest.run()"
   ]
  },
  {
   "cell_type": "code",
   "execution_count": 27,
   "metadata": {},
   "outputs": [],
   "source": [
    "# 8. Écrivez une fonction `is_leap_year` qui prend une année en paramètre et retourne `True` si l'année est bissextile, et `False` sinon. (Indice : une année est bissextile si elle est divisible par 4, mais pas par 100, sauf si elle est divisible par 400 -> utiliser l'opérateur modulo `%`).\n"
   ]
  },
  {
   "cell_type": "code",
   "execution_count": null,
   "metadata": {},
   "outputs": [],
   "source": [
    "# 🧪\n",
    "ipytest.clean()\n",
    "def test_is_leap_year():\n",
    "    assert is_leap_year(2000) == True\n",
    "    assert is_leap_year(2001) == False\n",
    "    assert is_leap_year(2002) == False\n",
    "    assert is_leap_year(2003) == False\n",
    "    assert is_leap_year(2004) == True\n",
    "    assert is_leap_year(2005) == False\n",
    "    assert is_leap_year(2008) == True\n",
    "    assert is_leap_year(2012) == True\n",
    "    assert is_leap_year(2016) == True\n",
    "    assert is_leap_year(2020) == True\n",
    "    assert is_leap_year(2100) == False\n",
    "    assert is_leap_year(2200) == False\n",
    "    assert is_leap_year(2300) == False\n",
    "    assert is_leap_year(2400) == True\n",
    "ipytest.run()"
   ]
  },
  {
   "cell_type": "code",
   "execution_count": 48,
   "metadata": {},
   "outputs": [],
   "source": [
    "# 9. Écrivez une fonction `get_arkose_price` qui prend en paramètre l'âge de la personne (nombre) et l'heure d'entrée dans la salle d'escalade (nombre), et retourne le prix à payer (nombre).\n",
    "#     - Le prix standard est de 18€ en heures pleines et de 11€ en happy hour (< 16h ou >= 21.5h).\n",
    "#     - Le prix pour les moins de 12 ans (< 12) est de 10€ quelque soit l'heure.\n",
    "#     - La salle est ferme à minuit et ouvre à 7h.\n",
    "#     - Si l'âge est inférieur à 4 (< 4) ou si la salle est fermée, la fonction affiche \"Erreur\" et ne retourne rien (None).\n"
   ]
  },
  {
   "cell_type": "code",
   "execution_count": null,
   "metadata": {},
   "outputs": [],
   "source": [
    "# 🧪\n",
    "ipytest.clean()\n",
    "def test_get_arkose_price(capsys):\n",
    "    assert get_arkose_price(20, 17) == 18\n",
    "    assert get_arkose_price(20, 16.1) == 18\n",
    "    assert get_arkose_price(20, 16) == 18\n",
    "    assert get_arkose_price(20, 21.4) == 18\n",
    "    assert get_arkose_price(20, 21.5) == 11\n",
    "    assert get_arkose_price(20, 15) == 11\n",
    "    assert get_arkose_price(20, 22) == 11\n",
    "    assert get_arkose_price(20, 15.9) == 11\n",
    "    assert get_arkose_price(20, 21.6) == 11\n",
    "    assert get_arkose_price(13, 15) == 11\n",
    "    assert get_arkose_price(13, 16) == 18\n",
    "    assert get_arkose_price(12, 15) == 11\n",
    "    assert get_arkose_price(12, 16) == 18\n",
    "    assert get_arkose_price(11, 15) == 10\n",
    "    assert get_arkose_price(11, 16) == 10\n",
    "    assert get_arkose_price(11, 17) == 10\n",
    "    assert get_arkose_price(11, 22) == 10\n",
    "    assert get_arkose_price(4, 15) == 10\n",
    "    assert get_arkose_price(3, 15) == None\n",
    "    output = capsys.readouterr().out\n",
    "    assert output == \"Erreur\\n\"\n",
    "    assert get_arkose_price(20, 6) == None\n",
    "    assert get_arkose_price(20, 24) == None\n",
    "ipytest.run()"
   ]
  }
 ],
 "metadata": {
  "kernelspec": {
   "display_name": "Python 3",
   "language": "python",
   "name": "python3"
  },
  "language_info": {
   "codemirror_mode": {
    "name": "ipython",
    "version": 3
   },
   "file_extension": ".py",
   "mimetype": "text/x-python",
   "name": "python",
   "nbconvert_exporter": "python",
   "pygments_lexer": "ipython3",
   "version": "3.11.5"
  }
 },
 "nbformat": 4,
 "nbformat_minor": 2
}
