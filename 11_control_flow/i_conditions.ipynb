{
 "cells": [
  {
   "cell_type": "markdown",
   "metadata": {},
   "source": [
    "> ### Vérification de la configuration\n",
    "> Vérifiez que Python et les tests fonctionnent correctement en exécutant les deux cellules ci-dessous."
   ]
  },
  {
   "cell_type": "code",
   "execution_count": null,
   "metadata": {},
   "outputs": [],
   "source": [
    "print(\"✅ Python works!\")\n",
    "from sys import version\n",
    "print(version)"
   ]
  },
  {
   "cell_type": "code",
   "execution_count": null,
   "metadata": {},
   "outputs": [],
   "source": [
    "import ipytest\n",
    "ipytest.autoconfig()\n",
    "ipytest.clean()\n",
    "def test_all_good():\n",
    "    assert \"🐍\" == \"🐍\"\n",
    "ipytest.run()"
   ]
  },
  {
   "cell_type": "markdown",
   "metadata": {},
   "source": [
    "# Les conditions en Python\n",
    "\n",
    "## Les conditions\n",
    "\n",
    "Les conditions permettent de tester si une condition est vraie ou fausse. En fonction du résultat, on peut exécuter un bloc de code ou un autre.\n",
    "\n",
    "### Syntaxe\n",
    "\n",
    "```python\n",
    "if condition:\n",
    "    # code à exécuter si la condition est vraie\n",
    "else:\n",
    "    # code à exécuter si la condition est fausse\n",
    "```\n",
    "\n",
    "Il est possible d'ajouter plusieurs conditions en utilisant `elif` (contraction de `else if`).\n",
    "\n",
    "```python\n",
    "if condition1:\n",
    "    # code à exécuter si la condition1 est vraie\n",
    "elif condition2:\n",
    "    # code à exécuter si la condition2 est vraie\n",
    "else:\n",
    "    # code à exécuter si aucune des conditions précédentes n'est vraie\n",
    "```\n",
    "\n",
    "La condition finale `else` est optionnelle.\n",
    "\n",
    "#### Exemple\n",
    "\n",
    "```python\n",
    "age = 18\n",
    "\n",
    "if age >= 18:\n",
    "    print(\"Vous êtes majeur\")\n",
    "else:\n",
    "    print(\"Vous êtes mineur\")\n",
    "```\n",
    "\n",
    "### Opérateurs de comparaison et logiques\n",
    "\n",
    "- `==` : égal à\n",
    "- `!=` : différent de\n",
    "- `>` : supérieur à\n",
    "- `<` : inférieur à\n",
    "- `>=` : supérieur ou égal à\n",
    "- `<=` : inférieur ou égal à\n",
    "\n",
    "Ces opérateurs permettent de comparer des valeurs entre elles, et de tester si une condition est vraie ou fausse. La valeur de retour est un booléen (`True` ou `False`).\n",
    "\n",
    "> **Note :** Attention à ne pas confondre l'opérateur d'égalité `==` avec l'opérateur d'affectation `=`.\n",
    "\n",
    "> **Note :** La majuscule est importante, `True` et `False` sont des valeurs spéciales en Python.\n",
    "\n",
    "Trois opérateurs logiques très importants permettent de combiner plusieurs conditions et de travailler avec des expressions booléennes :\n",
    "- `and` : ET\n",
    "- `or` : OU\n",
    "- `not` : NON\n",
    "\n",
    "#### Exemple\n",
    "\n",
    "```python\n",
    "age = 18\n",
    "\n",
    "if age >= 18 and age < 21:\n",
    "    print(\"Vous êtes majeur mais vous n'êtes pas encore autorisé à boire de l'alcool aux États-Unis\")\n",
    "```\n",
    "\n",
    "### L'instruction `pass`\n",
    "\n",
    "L'instruction `pass` ne fait rien. Elle est souvent utilisée pour écrire du code provisoire ou pour éviter une erreur de syntaxe.\n",
    "\n",
    "#### Exemple\n",
    "\n",
    "```python\n",
    "age = 18\n",
    "\n",
    "if age >= 18:\n",
    "    pass\n",
    "else:\n",
    "    print(\"Vous êtes mineur\")\n",
    "```\n",
    "\n",
    "## Exercices\n",
    "\n",
    "1. Écrivez une fonction `print_sign` qui affiche \"Positif\" si le nombre en paramètre est positif, \"Négatif\" s'il est négatif, et \"Nul\" s'il est nul.\n",
    "2. Écrivez une fonction `is_adult` qui prend un âge en paramètre et retourne `True` si la personne est majeure, et `False` sinon.\n",
    "3. Écrivez une fonction `is_even` qui prend un nombre en paramètre et retourne `True` si le nombre est pair, et `False` sinon. (Indice : utilisez l'opérateur modulo `%`).\n",
    "4. Écrivez une fonction `where_can_i_drink_beer` qui prend un âge en paramètre et retourne `\"France\"`, `\"États-Unis\"`, `\"Les deux\"`, ou `\"Aucun\"` en fonction de l'âge de la personne. En France, on peut boire de l'alcool à partir de 18 ans, et aux États-Unis à partir de 21 ans.\n",
    "5. Écrivez une fonction `do_noting` qui ne fait rien.\n",
    "6. Écrivez une fonction `is_between` qui prend trois paramètres `a`, `b`, et `c`, et retourne `True` si `b` est compris entre `a` et `c`, et `False` sinon. (Indice : a ne doit pas nécessairement être inférieur à c)."
   ]
  },
  {
   "cell_type": "code",
   "execution_count": 14,
   "metadata": {},
   "outputs": [],
   "source": [
    "# 1. Écrivez une fonction `print_sign` qui affiche \"Positif\" si le nombre en paramètre est positif, \"Négatif\" s'il est négatif, et \"Nul\" s'il est nul.\n"
   ]
  },
  {
   "cell_type": "code",
   "execution_count": null,
   "metadata": {},
   "outputs": [],
   "source": [
    "# 🧪\n",
    "ipytest.clean()\n",
    "def test_print_sign():\n",
    "    # catch stdout\n",
    "    import sys\n",
    "    from io import StringIO\n",
    "    stdout = sys.stdout\n",
    "    sys.stdout = StringIO()\n",
    "    # test\n",
    "    print_sign(42)\n",
    "    print_sign(-42)\n",
    "    print_sign(0)\n",
    "    output = sys.stdout.getvalue().split('\\n')\n",
    "    assert output[0] == \"Positif\"\n",
    "    assert output[1] == \"Négatif\"\n",
    "    assert output[2] == \"Nul\"\n",
    "    sys.stdout = stdout\n",
    "ipytest.run()"
   ]
  },
  {
   "cell_type": "code",
   "execution_count": null,
   "metadata": {},
   "outputs": [],
   "source": [
    "# 2. Écrivez une fonction `is_adult` qui prend un âge en paramètre et renvoie `True` si la personne est majeure, et `False` sinon.\n"
   ]
  },
  {
   "cell_type": "code",
   "execution_count": null,
   "metadata": {},
   "outputs": [],
   "source": [
    "# 🧪\n",
    "ipytest.clean()\n",
    "def test_is_adult():\n",
    "    assert is_adult(17) == False\n",
    "    assert is_adult(18) == True\n",
    "    assert is_adult(19) == True\n",
    "ipytest.run()"
   ]
  },
  {
   "cell_type": "code",
   "execution_count": 6,
   "metadata": {},
   "outputs": [],
   "source": [
    "# 3. Écrivez une fonction `is_even` qui prend un nombre en paramètre et renvoie `True` si le nombre est pair, et `False` sinon.\n"
   ]
  },
  {
   "cell_type": "code",
   "execution_count": null,
   "metadata": {},
   "outputs": [],
   "source": [
    "# 🧪\n",
    "ipytest.clean()\n",
    "def test_is_even():\n",
    "    assert is_even(0) == True\n",
    "    assert is_even(1) == False\n",
    "    assert is_even(2) == True\n",
    "    assert is_even(3) == False\n",
    "ipytest.run()"
   ]
  },
  {
   "cell_type": "code",
   "execution_count": 20,
   "metadata": {},
   "outputs": [],
   "source": [
    "# 4. Écrivez une fonction `where_can_i_drink_beer` qui prend un âge en paramètre et retourne `\"France\"`, `\"États-Unis\"`, `\"Les deux\"`, ou `\"Aucun\"` en fonction de l'âge de la personne. En France, on peut boire de l'alcool à partir de 18 ans, et aux États-Unis à partir de 21 ans.\n",
    "\n"
   ]
  },
  {
   "cell_type": "code",
   "execution_count": null,
   "metadata": {},
   "outputs": [],
   "source": [
    "# 🧪\n",
    "ipytest.clean()\n",
    "def test_where_can_i_drink_beer():\n",
    "    assert where_can_i_drink_beer(17) == \"Aucun\"\n",
    "    assert where_can_i_drink_beer(18) == \"France\"\n",
    "    assert where_can_i_drink_beer(19) == \"France\"\n",
    "    assert where_can_i_drink_beer(20) == \"France\"\n",
    "    assert where_can_i_drink_beer(21) == \"Les deux\"\n",
    "    assert where_can_i_drink_beer(22) == \"Les deux\"\n",
    "ipytest.run()"
   ]
  },
  {
   "cell_type": "code",
   "execution_count": 12,
   "metadata": {},
   "outputs": [],
   "source": [
    "# 5. Écrivez une fonction `do_noting` qui ne fait rien.\n"
   ]
  },
  {
   "cell_type": "code",
   "execution_count": null,
   "metadata": {},
   "outputs": [],
   "source": [
    "# 🧪\n",
    "ipytest.clean()\n",
    "def test_do_noting(capsys):\n",
    "    assert do_nothing() == None\n",
    "    output = capsys.readouterr().out\n",
    "    assert output == \"\"\n",
    "ipytest.run()\n"
   ]
  },
  {
   "cell_type": "code",
   "execution_count": 20,
   "metadata": {},
   "outputs": [],
   "source": [
    "# 6. Écrivez une fonction `is_between` qui prend trois paramètres `a`, `b`, et `c`, et retourne `True` si `b` est compris entre `a` et `c`, et `False` sinon.\n"
   ]
  },
  {
   "cell_type": "code",
   "execution_count": null,
   "metadata": {},
   "outputs": [],
   "source": [
    "# 🧪\n",
    "ipytest.clean()\n",
    "def test_is_between():\n",
    "    assert is_between(1, 2, 3) == True\n",
    "    assert is_between(3, 2, 1) == True\n",
    "    assert is_between(1, 3, 2) == False\n",
    "    assert is_between(3, 1, 2) == False\n",
    "ipytest.run()"
   ]
  }
 ],
 "metadata": {
  "kernelspec": {
   "display_name": "Python 3",
   "language": "python",
   "name": "python3"
  },
  "language_info": {
   "codemirror_mode": {
    "name": "ipython",
    "version": 3
   },
   "file_extension": ".py",
   "mimetype": "text/x-python",
   "name": "python",
   "nbconvert_exporter": "python",
   "pygments_lexer": "ipython3",
   "version": "3.11.5"
  }
 },
 "nbformat": 4,
 "nbformat_minor": 2
}
