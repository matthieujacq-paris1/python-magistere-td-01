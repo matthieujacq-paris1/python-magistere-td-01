{
 "cells": [
  {
   "cell_type": "markdown",
   "metadata": {},
   "source": [
    "> ### Vérification de la configuration\n",
    "> Vérifiez que Python et les tests fonctionnent correctement en exécutant les deux cellules ci-dessous."
   ]
  },
  {
   "cell_type": "code",
   "execution_count": null,
   "metadata": {},
   "outputs": [],
   "source": [
    "print(\"✅ Python works!\")\n",
    "from sys import version\n",
    "print(version)"
   ]
  },
  {
   "cell_type": "code",
   "execution_count": null,
   "metadata": {},
   "outputs": [],
   "source": [
    "import ipytest\n",
    "ipytest.autoconfig()\n",
    "ipytest.clean()\n",
    "def test_all_good():\n",
    "    assert \"🐍\" == \"🐍\"\n",
    "ipytest.run()"
   ]
  },
  {
   "cell_type": "markdown",
   "metadata": {},
   "source": [
    "# Les boucles en Python\n",
    "\n",
    "## Les boucles `for`\n",
    "\n",
    "Les boucles `for` permettent de répéter une suite d'instructions un nombre déterminé de fois. En Python, on utilise la fonction `range` pour générer une séquence de nombres.\n",
    "\n",
    "### Syntaxe\n",
    "\n",
    "La syntaxe de la boucle `for` est la suivante :\n",
    "- On commence par le mot-clé `for`\n",
    "- suivi d'une variable qui prendra successivement les valeurs de la séquence générée (ici `i`)\n",
    "- suivi du mot-clé `in`\n",
    "- suivi d'un objet itérable (exemple ici: la fonction `range` qui génère la séquence de nombres)\n",
    "\n",
    "```python\n",
    "for i in range(n):\n",
    "    # code à répéter n fois\n",
    "```\n",
    "\n",
    "### La fonction range\n",
    "\n",
    "La fonction `range` permet de générer une séquence de nombres. Elle peut prendre 1, 2 ou 3 arguments :\n",
    "- `range(n)` : génère une séquence de `n` nombres allant de 0 à `n-1`\n",
    "- `range(a, b)` : génère une séquence de nombres allant de `a` à `b-1`\n",
    "- `range(a, b, pas)` : génère une séquence de nombres allant de `a` à `b-1` avec un pas de `pas`\n",
    "\n",
    "### Exemples\n",
    "\n",
    "```python\n",
    "for i in range(5):\n",
    "    print(i)\n",
    "# affiche 0 1 2 3 4\n",
    "```\n",
    "\n",
    "```python\n",
    "for i in range(1, 6):\n",
    "    print(i)\n",
    "# affiche 1 2 3 4 5\n",
    "```\n",
    "\n",
    "```python\n",
    "for i in range(0, 10, 2):\n",
    "    print(i)\n",
    "# affiche 0 2 4 6 8\n",
    "```\n",
    "\n",
    "### L'instruction `break`\n",
    "\n",
    "L'instruction `break` permet de sortir prématurément d'une boucle. Elle est souvent utilisée pour arrêter une boucle lorsqu'une condition est remplie.\n",
    "\n",
    "### Exemple\n",
    "\n",
    "Dans l'exemple ci-dessous, on affiche les entiers de 0 à 4, mais on sort de la boucle dès que `i` est égal à 2.\n",
    "\n",
    "```python\n",
    "for i in range(5):\n",
    "    print(i)\n",
    "    if i == 2:\n",
    "        break\n",
    "# affiche 0 1 2\n",
    "```\n",
    "\n",
    "### L'instruction `continue`\n",
    "\n",
    "L'instruction `continue` permet de passer prématurément à l'itération suivante d'une boucle. Elle est souvent utilisée pour passer à l'itération suivante lorsqu'une condition est remplie.\n",
    "\n",
    "### Exemple\n",
    "\n",
    "Dans l'exemple ci-dessous, on affiche les entiers de 0 à 4, mais on ne les affiche pas si `i` est égal à 2.\n",
    "\n",
    "```python\n",
    "for i in range(5):\n",
    "    if i == 2:\n",
    "        continue\n",
    "    print(i)\n",
    "# affiche 0 1 3 4\n",
    "```\n",
    "\n",
    "### Exercice\n",
    "\n",
    "1. Écrivez une fonction `print_numbers` qui prend en paramètre un entier `n` et affiche les entiers de `0` à `n` (inclus). Cette fonction ne renvoie rien. Chaque entier doit être affiché sur une ligne différente.\n",
    "2. Écrivez une fonction `sum_numbers` qui prend en paramètre un entier `n` et renvoie la somme des entiers de `0` à `n` (inclus).\n",
    "3. Écrivez une fonction `sum_numbers_between` qui prend en paramètre deux entiers `a` et `b` et renvoie la somme des entiers entre `a` et `b` (inclus).\n",
    "4. Écrivez une fonction `count_even_numbers` qui prend en paramètre un entier `n` et renvoie le nombre d'entiers pairs de `0` à `n` (inclus)."
   ]
  },
  {
   "cell_type": "code",
   "execution_count": null,
   "metadata": {},
   "outputs": [],
   "source": [
    "# 1. Écrivez une fonction `print_numbers` qui prend en paramètre un entier `n` et affiche les entiers de `0` à `n` (inclus). Cette fonction ne renvoie rien. Chaque entier doit être affiché sur une ligne différente.\n"
   ]
  },
  {
   "cell_type": "code",
   "execution_count": null,
   "metadata": {},
   "outputs": [],
   "source": [
    "# 🧪\n",
    "ipytest.clean()\n",
    "def test_print_numbers(capsys):\n",
    "    print_numbers(3)\n",
    "    captured = capsys.readouterr()\n",
    "    assert captured.out == \"0\\n1\\n2\\n3\\n\"\n",
    "ipytest.run()"
   ]
  },
  {
   "cell_type": "code",
   "execution_count": 17,
   "metadata": {},
   "outputs": [],
   "source": [
    "# 2. Écrivez une fonction `sum_numbers` qui prend en paramètre un entier `n` et renvoie la somme des entiers de `0` à `n` (inclus).\n"
   ]
  },
  {
   "cell_type": "code",
   "execution_count": null,
   "metadata": {},
   "outputs": [],
   "source": [
    "# 🧪\n",
    "ipytest.clean()\n",
    "def test_sum_numbers():\n",
    "    assert sum_numbers(0) == 0\n",
    "    assert sum_numbers(1) == 1\n",
    "    assert sum_numbers(2) == 3\n",
    "    assert sum_numbers(3) == 6\n",
    "    assert sum_numbers(5) == 15\n",
    "ipytest.run()"
   ]
  },
  {
   "cell_type": "code",
   "execution_count": 31,
   "metadata": {},
   "outputs": [],
   "source": [
    "# 3. Écrivez une fonction `sum_numbers_between` qui prend en paramètre deux entiers `a` et `b` et renvoie la somme des entiers entre `a` et `b` (inclus).\n"
   ]
  },
  {
   "cell_type": "code",
   "execution_count": null,
   "metadata": {},
   "outputs": [],
   "source": [
    "# 🧪\n",
    "ipytest.clean()\n",
    "def test_sum_numbers_between():\n",
    "    assert sum_numbers_between(0, 0) == 0\n",
    "    assert sum_numbers_between(0, 1) == 1\n",
    "    assert sum_numbers_between(0, 2) == 3\n",
    "    assert sum_numbers_between(0, 3) == 6\n",
    "    assert sum_numbers_between(1, 5) == 15\n",
    "    assert sum_numbers_between(2, 5) == 14\n",
    "    assert sum_numbers_between(5, 5) == 5\n",
    "ipytest.run()"
   ]
  },
  {
   "cell_type": "code",
   "execution_count": 29,
   "metadata": {},
   "outputs": [],
   "source": [
    "# 4. Écrivez une fonction `sum_even_numbers_between` qui prend en paramètre deux entiers `a` et `b` et renvoie la somme des entiers pairs entre `a` et `b` (inclus).\n"
   ]
  },
  {
   "cell_type": "code",
   "execution_count": null,
   "metadata": {},
   "outputs": [],
   "source": [
    "# 🧪\n",
    "ipytest.clean()\n",
    "def test_sum_even_numbers_between():\n",
    "    assert sum_even_numbers_between(0, 0) == 0\n",
    "    assert sum_even_numbers_between(0, 1) == 0\n",
    "    assert sum_even_numbers_between(0, 2) == 2\n",
    "    assert sum_even_numbers_between(0, 3) == 2\n",
    "    assert sum_even_numbers_between(1, 5) == 6\n",
    "    assert sum_even_numbers_between(2, 5) == 6\n",
    "    assert sum_even_numbers_between(5, 5) == 0\n",
    "    assert sum_even_numbers_between(5, 6) == 6\n",
    "    assert sum_even_numbers_between(5, 7) == 6\n",
    "    assert sum_even_numbers_between(6, 6) == 6\n",
    "    assert sum_even_numbers_between(3, 10) == 28\n",
    "ipytest.run()"
   ]
  },
  {
   "cell_type": "markdown",
   "metadata": {},
   "source": [
    "## Les boucles `while`\n",
    "\n",
    "Les boucles `while` permettent de répéter une suite d'instructions tant qu'une condition est remplie.\n",
    "\n",
    "### Syntaxe\n",
    "\n",
    "La syntaxe de la boucle `while` est la suivante :\n",
    "- On commence par le mot-clé `while`\n",
    "- suivi de la condition à vérifier\n",
    "- suivi de `:`\n",
    "\n",
    "```python\n",
    "while condition:\n",
    "    # code à répéter tant que la condition est vraie\n",
    "```\n",
    "\n",
    "### Exemple\n",
    "\n",
    "```python\n",
    "i = 0\n",
    "while i < 5:\n",
    "    print(i)\n",
    "    i += 1 # shorthand for i = i + 1\n",
    "# affiche 0 1 2 3 4\n",
    "```\n",
    "\n",
    "#### Exercices\n",
    "\n",
    "Faire les exercices précédents avec une boucle `while` au lieu d'une boucle `for`."
   ]
  },
  {
   "cell_type": "code",
   "execution_count": 47,
   "metadata": {},
   "outputs": [],
   "source": [
    "# 1. Écrivez une fonction `print_numbers_while` qui prend en paramètre un entier `n` et affiche les entiers de `0` à `n` (inclus). Cette fonction ne renvoie rien. Chaque entier doit être affiché sur une ligne différente.\n"
   ]
  },
  {
   "cell_type": "code",
   "execution_count": null,
   "metadata": {},
   "outputs": [],
   "source": [
    "# 🧪\n",
    "ipytest.clean()\n",
    "def test_print_numbers_while(capsys):\n",
    "    print_numbers_while(3)\n",
    "    captured = capsys.readouterr()\n",
    "    assert captured.out == \"0\\n1\\n2\\n3\\n\"\n",
    "ipytest.run()"
   ]
  },
  {
   "cell_type": "code",
   "execution_count": 49,
   "metadata": {},
   "outputs": [],
   "source": [
    "# 2. Écrivez une fonction `sum_numbers_while` qui prend en paramètre un entier `n` et renvoie la somme des entiers de `0` à `n` (inclus).\n"
   ]
  },
  {
   "cell_type": "code",
   "execution_count": null,
   "metadata": {},
   "outputs": [],
   "source": [
    "# 🧪\n",
    "ipytest.clean()\n",
    "def test_sum_numbers_while():\n",
    "    assert sum_numbers_while(0) == 0\n",
    "    assert sum_numbers_while(1) == 1\n",
    "    assert sum_numbers_while(2) == 3\n",
    "    assert sum_numbers_while(3) == 6\n",
    "    assert sum_numbers_while(5) == 15\n",
    "ipytest.run()"
   ]
  },
  {
   "cell_type": "code",
   "execution_count": 51,
   "metadata": {},
   "outputs": [],
   "source": [
    "# 3. Écrivez une fonction `sum_numbers_between_while` qui prend en paramètre deux entiers `a` et `b` et renvoie la somme des entiers entre `a` et `b` (inclus).\n"
   ]
  },
  {
   "cell_type": "code",
   "execution_count": null,
   "metadata": {},
   "outputs": [],
   "source": [
    "# 🧪\n",
    "ipytest.clean()\n",
    "def test_sum_numbers_between_while():\n",
    "    assert sum_numbers_between_while(0, 0) == 0\n",
    "    assert sum_numbers_between_while(0, 1) == 1\n",
    "    assert sum_numbers_between_while(0, 2) == 3\n",
    "    assert sum_numbers_between_while(0, 3) == 6\n",
    "    assert sum_numbers_between_while(1, 5) == 15\n",
    "    assert sum_numbers_between_while(2, 5) == 14\n",
    "    assert sum_numbers_between_while(5, 5) == 5\n",
    "ipytest.run()"
   ]
  },
  {
   "cell_type": "code",
   "execution_count": 53,
   "metadata": {},
   "outputs": [],
   "source": [
    "# 4. Écrivez une fonction `sum_even_numbers_between_while` qui prend en paramètre deux entiers `a` et `b` et renvoie la somme des entiers pairs entre `a` et `b` (inclus).\n"
   ]
  },
  {
   "cell_type": "code",
   "execution_count": null,
   "metadata": {},
   "outputs": [],
   "source": [
    "# 🧪\n",
    "ipytest.clean()\n",
    "def test_sum_even_numbers_between_while():\n",
    "    assert sum_even_numbers_between_while(0, 0) == 0\n",
    "    assert sum_even_numbers_between_while(0, 1) == 0\n",
    "    assert sum_even_numbers_between_while(0, 2) == 2\n",
    "    assert sum_even_numbers_between_while(0, 3) == 2\n",
    "    assert sum_even_numbers_between_while(1, 5) == 6\n",
    "    assert sum_even_numbers_between_while(2, 5) == 6\n",
    "    assert sum_even_numbers_between_while(5, 5) == 0\n",
    "    assert sum_even_numbers_between_while(5, 6) == 6\n",
    "    assert sum_even_numbers_between_while(5, 7) == 6\n",
    "    assert sum_even_numbers_between_while(6, 6) == 6\n",
    "    assert sum_even_numbers_between_while(3, 10) == 28\n",
    "ipytest.run()"
   ]
  }
 ],
 "metadata": {
  "kernelspec": {
   "display_name": "Python 3",
   "language": "python",
   "name": "python3"
  },
  "language_info": {
   "codemirror_mode": {
    "name": "ipython",
    "version": 3
   },
   "file_extension": ".py",
   "mimetype": "text/x-python",
   "name": "python",
   "nbconvert_exporter": "python",
   "pygments_lexer": "ipython3",
   "version": "3.11.5"
  }
 },
 "nbformat": 4,
 "nbformat_minor": 2
}
